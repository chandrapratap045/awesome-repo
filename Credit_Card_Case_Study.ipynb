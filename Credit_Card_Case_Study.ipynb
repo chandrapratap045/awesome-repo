{
 "cells": [
  {
   "cell_type": "code",
   "execution_count": 35,
   "id": "29f23aa5",
   "metadata": {},
   "outputs": [],
   "source": [
    "import numpy as np\n",
    "import pandas as pd\n",
    "import datetime as dt\n",
    "import matplotlib.pyplot as plt\n",
    "\n",
    "import warnings\n",
    "warnings.filterwarnings('ignore')"
   ]
  },
  {
   "cell_type": "code",
   "execution_count": 36,
   "id": "41713293",
   "metadata": {},
   "outputs": [],
   "source": [
    "file_path = 'D:/Classes/Python/Case Studies/Python Foundation Case Study 2 - Credit Card Case Study/'\n",
    "Repayment = pd.read_csv(file_path + 'Repayment.csv',usecols = ['Customer', 'Month', 'Amount'])\n",
    "Repayment.dropna(axis = 1, how = 'all', inplace = True)\n",
    "Repayment.dropna(axis = 0, how = 'all', inplace = True)\n",
    "Repayment.Month = pd.to_datetime(Repayment.Month)\n",
    "Customer_Acqusition = pd.read_csv(file_path + 'Customer Acqusition.csv',\n",
    "                                  usecols = ['Customer','Age', 'City', 'Product', 'Limit', 'Company', 'Segment'])\n",
    "spend = pd.read_csv(file_path + 'spend.csv',usecols = ['Customer', 'Month', 'Type', 'Amount'])\n",
    "spend.Month = pd.to_datetime(spend.Month)"
   ]
  },
  {
   "cell_type": "code",
   "execution_count": 37,
   "id": "ebed5b0c",
   "metadata": {},
   "outputs": [
    {
     "name": "stdout",
     "output_type": "stream",
     "text": [
      "<class 'pandas.core.frame.DataFrame'>\n",
      "Int64Index: 1500 entries, 0 to 1499\n",
      "Data columns (total 3 columns):\n",
      " #   Column    Non-Null Count  Dtype         \n",
      "---  ------    --------------  -----         \n",
      " 0   Customer  1500 non-null   object        \n",
      " 1   Month     1500 non-null   datetime64[ns]\n",
      " 2   Amount    1500 non-null   float64       \n",
      "dtypes: datetime64[ns](1), float64(1), object(1)\n",
      "memory usage: 46.9+ KB\n"
     ]
    }
   ],
   "source": [
    "Repayment.info()"
   ]
  },
  {
   "cell_type": "code",
   "execution_count": 38,
   "id": "d535a255",
   "metadata": {},
   "outputs": [
    {
     "data": {
      "text/html": [
       "<div>\n",
       "<style scoped>\n",
       "    .dataframe tbody tr th:only-of-type {\n",
       "        vertical-align: middle;\n",
       "    }\n",
       "\n",
       "    .dataframe tbody tr th {\n",
       "        vertical-align: top;\n",
       "    }\n",
       "\n",
       "    .dataframe thead th {\n",
       "        text-align: right;\n",
       "    }\n",
       "</style>\n",
       "<table border=\"1\" class=\"dataframe\">\n",
       "  <thead>\n",
       "    <tr style=\"text-align: right;\">\n",
       "      <th></th>\n",
       "      <th>Customer</th>\n",
       "      <th>Month</th>\n",
       "      <th>Amount</th>\n",
       "    </tr>\n",
       "  </thead>\n",
       "  <tbody>\n",
       "    <tr>\n",
       "      <th>0</th>\n",
       "      <td>A1</td>\n",
       "      <td>2004-01-12</td>\n",
       "      <td>495414.75</td>\n",
       "    </tr>\n",
       "    <tr>\n",
       "      <th>1</th>\n",
       "      <td>A1</td>\n",
       "      <td>2004-01-03</td>\n",
       "      <td>245899.02</td>\n",
       "    </tr>\n",
       "  </tbody>\n",
       "</table>\n",
       "</div>"
      ],
      "text/plain": [
       "  Customer      Month     Amount\n",
       "0       A1 2004-01-12  495414.75\n",
       "1       A1 2004-01-03  245899.02"
      ]
     },
     "execution_count": 38,
     "metadata": {},
     "output_type": "execute_result"
    }
   ],
   "source": [
    "Repayment.head(2)"
   ]
  },
  {
   "cell_type": "code",
   "execution_count": 39,
   "id": "612c9266",
   "metadata": {},
   "outputs": [
    {
     "name": "stdout",
     "output_type": "stream",
     "text": [
      "<class 'pandas.core.frame.DataFrame'>\n",
      "RangeIndex: 100 entries, 0 to 99\n",
      "Data columns (total 7 columns):\n",
      " #   Column    Non-Null Count  Dtype  \n",
      "---  ------    --------------  -----  \n",
      " 0   Customer  100 non-null    object \n",
      " 1   Age       100 non-null    int64  \n",
      " 2   City      100 non-null    object \n",
      " 3   Product   100 non-null    object \n",
      " 4   Limit     100 non-null    float64\n",
      " 5   Company   100 non-null    object \n",
      " 6   Segment   100 non-null    object \n",
      "dtypes: float64(1), int64(1), object(5)\n",
      "memory usage: 5.6+ KB\n"
     ]
    }
   ],
   "source": [
    "Customer_Acqusition.info()"
   ]
  },
  {
   "cell_type": "code",
   "execution_count": 40,
   "id": "2cd50dd9",
   "metadata": {},
   "outputs": [
    {
     "data": {
      "text/html": [
       "<div>\n",
       "<style scoped>\n",
       "    .dataframe tbody tr th:only-of-type {\n",
       "        vertical-align: middle;\n",
       "    }\n",
       "\n",
       "    .dataframe tbody tr th {\n",
       "        vertical-align: top;\n",
       "    }\n",
       "\n",
       "    .dataframe thead th {\n",
       "        text-align: right;\n",
       "    }\n",
       "</style>\n",
       "<table border=\"1\" class=\"dataframe\">\n",
       "  <thead>\n",
       "    <tr style=\"text-align: right;\">\n",
       "      <th></th>\n",
       "      <th>Customer</th>\n",
       "      <th>Age</th>\n",
       "      <th>City</th>\n",
       "      <th>Product</th>\n",
       "      <th>Limit</th>\n",
       "      <th>Company</th>\n",
       "      <th>Segment</th>\n",
       "    </tr>\n",
       "  </thead>\n",
       "  <tbody>\n",
       "    <tr>\n",
       "      <th>0</th>\n",
       "      <td>A1</td>\n",
       "      <td>76</td>\n",
       "      <td>BANGALORE</td>\n",
       "      <td>Gold</td>\n",
       "      <td>500000.0</td>\n",
       "      <td>C1</td>\n",
       "      <td>Self Employed</td>\n",
       "    </tr>\n",
       "    <tr>\n",
       "      <th>1</th>\n",
       "      <td>A2</td>\n",
       "      <td>71</td>\n",
       "      <td>CALCUTTA</td>\n",
       "      <td>Silver</td>\n",
       "      <td>100000.0</td>\n",
       "      <td>C2</td>\n",
       "      <td>Salaried_MNC</td>\n",
       "    </tr>\n",
       "  </tbody>\n",
       "</table>\n",
       "</div>"
      ],
      "text/plain": [
       "  Customer  Age       City Product     Limit Company        Segment\n",
       "0       A1   76  BANGALORE    Gold  500000.0      C1  Self Employed\n",
       "1       A2   71   CALCUTTA  Silver  100000.0      C2   Salaried_MNC"
      ]
     },
     "execution_count": 40,
     "metadata": {},
     "output_type": "execute_result"
    }
   ],
   "source": [
    "Customer_Acqusition.head(2)"
   ]
  },
  {
   "cell_type": "code",
   "execution_count": 41,
   "id": "0bae5a58",
   "metadata": {},
   "outputs": [
    {
     "name": "stdout",
     "output_type": "stream",
     "text": [
      "<class 'pandas.core.frame.DataFrame'>\n",
      "RangeIndex: 1500 entries, 0 to 1499\n",
      "Data columns (total 4 columns):\n",
      " #   Column    Non-Null Count  Dtype         \n",
      "---  ------    --------------  -----         \n",
      " 0   Customer  1500 non-null   object        \n",
      " 1   Month     1500 non-null   datetime64[ns]\n",
      " 2   Type      1500 non-null   object        \n",
      " 3   Amount    1500 non-null   float64       \n",
      "dtypes: datetime64[ns](1), float64(1), object(2)\n",
      "memory usage: 47.0+ KB\n"
     ]
    }
   ],
   "source": [
    "spend.info()"
   ]
  },
  {
   "cell_type": "code",
   "execution_count": 42,
   "id": "29d4ad4a",
   "metadata": {},
   "outputs": [
    {
     "data": {
      "text/html": [
       "<div>\n",
       "<style scoped>\n",
       "    .dataframe tbody tr th:only-of-type {\n",
       "        vertical-align: middle;\n",
       "    }\n",
       "\n",
       "    .dataframe tbody tr th {\n",
       "        vertical-align: top;\n",
       "    }\n",
       "\n",
       "    .dataframe thead th {\n",
       "        text-align: right;\n",
       "    }\n",
       "</style>\n",
       "<table border=\"1\" class=\"dataframe\">\n",
       "  <thead>\n",
       "    <tr style=\"text-align: right;\">\n",
       "      <th></th>\n",
       "      <th>Customer</th>\n",
       "      <th>Month</th>\n",
       "      <th>Type</th>\n",
       "      <th>Amount</th>\n",
       "    </tr>\n",
       "  </thead>\n",
       "  <tbody>\n",
       "    <tr>\n",
       "      <th>0</th>\n",
       "      <td>A1</td>\n",
       "      <td>2004-01-12</td>\n",
       "      <td>JEWELLERY</td>\n",
       "      <td>485470.80</td>\n",
       "    </tr>\n",
       "    <tr>\n",
       "      <th>1</th>\n",
       "      <td>A1</td>\n",
       "      <td>2004-01-03</td>\n",
       "      <td>PETRO</td>\n",
       "      <td>410556.13</td>\n",
       "    </tr>\n",
       "  </tbody>\n",
       "</table>\n",
       "</div>"
      ],
      "text/plain": [
       "  Customer      Month       Type     Amount\n",
       "0       A1 2004-01-12  JEWELLERY  485470.80\n",
       "1       A1 2004-01-03      PETRO  410556.13"
      ]
     },
     "execution_count": 42,
     "metadata": {},
     "output_type": "execute_result"
    }
   ],
   "source": [
    "spend.head(2)"
   ]
  },
  {
   "cell_type": "markdown",
   "id": "caa500d5",
   "metadata": {},
   "source": [
    "### 1. a) In case age is less than 18, replace it with mean of age values"
   ]
  },
  {
   "cell_type": "code",
   "execution_count": 43,
   "id": "e081dcd4",
   "metadata": {},
   "outputs": [
    {
     "data": {
      "text/html": [
       "<div>\n",
       "<style scoped>\n",
       "    .dataframe tbody tr th:only-of-type {\n",
       "        vertical-align: middle;\n",
       "    }\n",
       "\n",
       "    .dataframe tbody tr th {\n",
       "        vertical-align: top;\n",
       "    }\n",
       "\n",
       "    .dataframe thead th {\n",
       "        text-align: right;\n",
       "    }\n",
       "</style>\n",
       "<table border=\"1\" class=\"dataframe\">\n",
       "  <thead>\n",
       "    <tr style=\"text-align: right;\">\n",
       "      <th></th>\n",
       "      <th>Customer</th>\n",
       "      <th>Age</th>\n",
       "      <th>City</th>\n",
       "      <th>Product</th>\n",
       "      <th>Limit</th>\n",
       "      <th>Company</th>\n",
       "      <th>Segment</th>\n",
       "    </tr>\n",
       "  </thead>\n",
       "  <tbody>\n",
       "    <tr>\n",
       "      <th>0</th>\n",
       "      <td>A1</td>\n",
       "      <td>76.0</td>\n",
       "      <td>BANGALORE</td>\n",
       "      <td>Gold</td>\n",
       "      <td>500000.0</td>\n",
       "      <td>C1</td>\n",
       "      <td>Self Employed</td>\n",
       "    </tr>\n",
       "    <tr>\n",
       "      <th>1</th>\n",
       "      <td>A2</td>\n",
       "      <td>71.0</td>\n",
       "      <td>CALCUTTA</td>\n",
       "      <td>Silver</td>\n",
       "      <td>100000.0</td>\n",
       "      <td>C2</td>\n",
       "      <td>Salaried_MNC</td>\n",
       "    </tr>\n",
       "    <tr>\n",
       "      <th>2</th>\n",
       "      <td>A3</td>\n",
       "      <td>34.0</td>\n",
       "      <td>COCHIN</td>\n",
       "      <td>Platimum</td>\n",
       "      <td>10000.0</td>\n",
       "      <td>C3</td>\n",
       "      <td>Salaried_Pvt</td>\n",
       "    </tr>\n",
       "    <tr>\n",
       "      <th>3</th>\n",
       "      <td>A4</td>\n",
       "      <td>47.0</td>\n",
       "      <td>BOMBAY</td>\n",
       "      <td>Platimum</td>\n",
       "      <td>10001.0</td>\n",
       "      <td>C4</td>\n",
       "      <td>Govt</td>\n",
       "    </tr>\n",
       "    <tr>\n",
       "      <th>4</th>\n",
       "      <td>A5</td>\n",
       "      <td>56.0</td>\n",
       "      <td>BANGALORE</td>\n",
       "      <td>Platimum</td>\n",
       "      <td>10002.0</td>\n",
       "      <td>C5</td>\n",
       "      <td>Normal Salary</td>\n",
       "    </tr>\n",
       "  </tbody>\n",
       "</table>\n",
       "</div>"
      ],
      "text/plain": [
       "  Customer   Age       City   Product     Limit Company        Segment\n",
       "0       A1  76.0  BANGALORE      Gold  500000.0      C1  Self Employed\n",
       "1       A2  71.0   CALCUTTA    Silver  100000.0      C2   Salaried_MNC\n",
       "2       A3  34.0     COCHIN  Platimum   10000.0      C3   Salaried_Pvt\n",
       "3       A4  47.0     BOMBAY  Platimum   10001.0      C4           Govt\n",
       "4       A5  56.0  BANGALORE  Platimum   10002.0      C5  Normal Salary"
      ]
     },
     "execution_count": 43,
     "metadata": {},
     "output_type": "execute_result"
    }
   ],
   "source": [
    "Customer_Acqusition.loc[Customer_Acqusition.Age < 18, 'Age'] = Customer_Acqusition.Age.mean()\n",
    "Customer_Acqusition.head()"
   ]
  },
  {
   "cell_type": "markdown",
   "id": "d15ea5a1",
   "metadata": {},
   "source": [
    "### b. In case spend amount is more than the limit, replace it with 50% of that customer’s limit.\n",
    "#### (customer’s limit provided in acquisition table is the per transaction limit on his card)"
   ]
  },
  {
   "cell_type": "code",
   "execution_count": 44,
   "id": "4534119d",
   "metadata": {},
   "outputs": [
    {
     "data": {
      "text/html": [
       "<div>\n",
       "<style scoped>\n",
       "    .dataframe tbody tr th:only-of-type {\n",
       "        vertical-align: middle;\n",
       "    }\n",
       "\n",
       "    .dataframe tbody tr th {\n",
       "        vertical-align: top;\n",
       "    }\n",
       "\n",
       "    .dataframe thead th {\n",
       "        text-align: right;\n",
       "    }\n",
       "</style>\n",
       "<table border=\"1\" class=\"dataframe\">\n",
       "  <thead>\n",
       "    <tr style=\"text-align: right;\">\n",
       "      <th></th>\n",
       "      <th>Customer</th>\n",
       "      <th>Age</th>\n",
       "      <th>City</th>\n",
       "      <th>Product</th>\n",
       "      <th>Limit</th>\n",
       "      <th>Company</th>\n",
       "      <th>Segment</th>\n",
       "      <th>Month</th>\n",
       "      <th>Type</th>\n",
       "      <th>Amount</th>\n",
       "    </tr>\n",
       "  </thead>\n",
       "  <tbody>\n",
       "    <tr>\n",
       "      <th>0</th>\n",
       "      <td>A1</td>\n",
       "      <td>76.0</td>\n",
       "      <td>BANGALORE</td>\n",
       "      <td>Gold</td>\n",
       "      <td>500000.0</td>\n",
       "      <td>C1</td>\n",
       "      <td>Self Employed</td>\n",
       "      <td>2004-01-12</td>\n",
       "      <td>JEWELLERY</td>\n",
       "      <td>485470.80</td>\n",
       "    </tr>\n",
       "    <tr>\n",
       "      <th>1</th>\n",
       "      <td>A1</td>\n",
       "      <td>76.0</td>\n",
       "      <td>BANGALORE</td>\n",
       "      <td>Gold</td>\n",
       "      <td>500000.0</td>\n",
       "      <td>C1</td>\n",
       "      <td>Self Employed</td>\n",
       "      <td>2004-01-03</td>\n",
       "      <td>PETRO</td>\n",
       "      <td>410556.13</td>\n",
       "    </tr>\n",
       "  </tbody>\n",
       "</table>\n",
       "</div>"
      ],
      "text/plain": [
       "  Customer   Age       City Product     Limit Company        Segment  \\\n",
       "0       A1  76.0  BANGALORE    Gold  500000.0      C1  Self Employed   \n",
       "1       A1  76.0  BANGALORE    Gold  500000.0      C1  Self Employed   \n",
       "\n",
       "       Month       Type     Amount  \n",
       "0 2004-01-12  JEWELLERY  485470.80  \n",
       "1 2004-01-03      PETRO  410556.13  "
      ]
     },
     "execution_count": 44,
     "metadata": {},
     "output_type": "execute_result"
    }
   ],
   "source": [
    "Cust_spend = pd.merge(left = Customer_Acqusition, right = spend, how = 'inner', on = 'Customer')\n",
    "Cust_spend.loc[Cust_spend.Amount > Cust_spend.Limit, 'Amount'] = 50/100 * Cust_spend.Limit\n",
    "Cust_spend.head(2)"
   ]
  },
  {
   "cell_type": "code",
   "execution_count": 45,
   "id": "d668a843",
   "metadata": {},
   "outputs": [
    {
     "data": {
      "text/plain": [
       "(1500, 10)"
      ]
     },
     "execution_count": 45,
     "metadata": {},
     "output_type": "execute_result"
    }
   ],
   "source": [
    "Cust_spend.shape"
   ]
  },
  {
   "cell_type": "markdown",
   "id": "f10bf34d",
   "metadata": {},
   "source": [
    "### c. Incase the repayment amount is more than the limit, replace the repayment with the limit."
   ]
  },
  {
   "cell_type": "code",
   "execution_count": 46,
   "id": "f39e44b9",
   "metadata": {},
   "outputs": [
    {
     "data": {
      "text/html": [
       "<div>\n",
       "<style scoped>\n",
       "    .dataframe tbody tr th:only-of-type {\n",
       "        vertical-align: middle;\n",
       "    }\n",
       "\n",
       "    .dataframe tbody tr th {\n",
       "        vertical-align: top;\n",
       "    }\n",
       "\n",
       "    .dataframe thead th {\n",
       "        text-align: right;\n",
       "    }\n",
       "</style>\n",
       "<table border=\"1\" class=\"dataframe\">\n",
       "  <thead>\n",
       "    <tr style=\"text-align: right;\">\n",
       "      <th></th>\n",
       "      <th>Customer</th>\n",
       "      <th>Age</th>\n",
       "      <th>City</th>\n",
       "      <th>Product</th>\n",
       "      <th>Limit</th>\n",
       "      <th>Company</th>\n",
       "      <th>Segment</th>\n",
       "      <th>Month_Spend</th>\n",
       "      <th>Type</th>\n",
       "      <th>Amount_Spend</th>\n",
       "      <th>Month_Repayment</th>\n",
       "      <th>Amount_Repayment</th>\n",
       "    </tr>\n",
       "  </thead>\n",
       "  <tbody>\n",
       "    <tr>\n",
       "      <th>0</th>\n",
       "      <td>A1</td>\n",
       "      <td>76.0</td>\n",
       "      <td>BANGALORE</td>\n",
       "      <td>Gold</td>\n",
       "      <td>500000.0</td>\n",
       "      <td>C1</td>\n",
       "      <td>Self Employed</td>\n",
       "      <td>2004-01-12</td>\n",
       "      <td>JEWELLERY</td>\n",
       "      <td>485470.8</td>\n",
       "      <td>2004-01-12</td>\n",
       "      <td>495414.75</td>\n",
       "    </tr>\n",
       "    <tr>\n",
       "      <th>1</th>\n",
       "      <td>A1</td>\n",
       "      <td>76.0</td>\n",
       "      <td>BANGALORE</td>\n",
       "      <td>Gold</td>\n",
       "      <td>500000.0</td>\n",
       "      <td>C1</td>\n",
       "      <td>Self Employed</td>\n",
       "      <td>2004-01-12</td>\n",
       "      <td>JEWELLERY</td>\n",
       "      <td>485470.8</td>\n",
       "      <td>2004-01-03</td>\n",
       "      <td>245899.02</td>\n",
       "    </tr>\n",
       "  </tbody>\n",
       "</table>\n",
       "</div>"
      ],
      "text/plain": [
       "  Customer   Age       City Product     Limit Company        Segment  \\\n",
       "0       A1  76.0  BANGALORE    Gold  500000.0      C1  Self Employed   \n",
       "1       A1  76.0  BANGALORE    Gold  500000.0      C1  Self Employed   \n",
       "\n",
       "  Month_Spend       Type  Amount_Spend Month_Repayment  Amount_Repayment  \n",
       "0  2004-01-12  JEWELLERY      485470.8      2004-01-12         495414.75  \n",
       "1  2004-01-12  JEWELLERY      485470.8      2004-01-03         245899.02  "
      ]
     },
     "execution_count": 46,
     "metadata": {},
     "output_type": "execute_result"
    }
   ],
   "source": [
    "df = pd.merge(left = Cust_spend, right = Repayment , on = 'Customer', how = 'inner', suffixes = ('_Spend','_Repayment'))\n",
    "df.loc[df.Amount_Repayment > df.Limit,'Amount_Repayment'] = df.Limit\n",
    "df.head(2)"
   ]
  },
  {
   "cell_type": "markdown",
   "id": "c9608ab0",
   "metadata": {},
   "source": [
    "### 2. From the above dataset create the following summaries:\n",
    "### a. How many distinct customers exist?"
   ]
  },
  {
   "cell_type": "code",
   "execution_count": 47,
   "id": "1400ec95",
   "metadata": {},
   "outputs": [
    {
     "data": {
      "text/plain": [
       "100"
      ]
     },
     "execution_count": 47,
     "metadata": {},
     "output_type": "execute_result"
    }
   ],
   "source": [
    "df.Customer.nunique()"
   ]
  },
  {
   "cell_type": "markdown",
   "id": "82b11de5",
   "metadata": {},
   "source": [
    "### b. How many distinct categories exist?"
   ]
  },
  {
   "cell_type": "code",
   "execution_count": 48,
   "id": "e483d420",
   "metadata": {},
   "outputs": [
    {
     "data": {
      "text/plain": [
       "array(['Self Employed', 'Salaried_MNC', 'Salaried_Pvt', 'Govt',\n",
       "       'Normal Salary'], dtype=object)"
      ]
     },
     "execution_count": 48,
     "metadata": {},
     "output_type": "execute_result"
    }
   ],
   "source": [
    "df.Segment.unique()"
   ]
  },
  {
   "cell_type": "markdown",
   "id": "3d12c49c",
   "metadata": {},
   "source": [
    "### c. What is the average monthly spend by customers?"
   ]
  },
  {
   "cell_type": "code",
   "execution_count": 49,
   "id": "2642c687",
   "metadata": {},
   "outputs": [
    {
     "data": {
      "text/plain": [
       "Month  Month    \n",
       "2004   April        235272.04\n",
       "       February     221215.27\n",
       "       January      251712.07\n",
       "       March        232146.12\n",
       "       May          217539.24\n",
       "       November     270486.40\n",
       "       September    310923.38\n",
       "2005   April        252181.33\n",
       "       August       233734.63\n",
       "       December     147503.06\n",
       "       February     229802.28\n",
       "       January      292741.37\n",
       "       July         229116.66\n",
       "       June         262688.11\n",
       "       May          245696.52\n",
       "       November     286143.32\n",
       "       October      194568.64\n",
       "       September    188666.20\n",
       "2006   April        232468.97\n",
       "       August       240699.72\n",
       "       December     270470.98\n",
       "       February     253858.26\n",
       "       January      282058.01\n",
       "       July         287505.10\n",
       "       June         177252.39\n",
       "       March        247166.08\n",
       "       May          236162.74\n",
       "       November     182841.29\n",
       "       October      236136.33\n",
       "       September    158520.09\n",
       "Name: Amount, dtype: float64"
      ]
     },
     "execution_count": 49,
     "metadata": {},
     "output_type": "execute_result"
    }
   ],
   "source": [
    "round(spend.groupby([spend.Month.dt.year, spend.Month.dt.strftime('%B')]).Amount.mean(),2)"
   ]
  },
  {
   "cell_type": "markdown",
   "id": "c314e41e",
   "metadata": {},
   "source": [
    "### d. What is the average monthly repayment by customers?"
   ]
  },
  {
   "cell_type": "code",
   "execution_count": 50,
   "id": "cc132252",
   "metadata": {},
   "outputs": [
    {
     "data": {
      "text/plain": [
       "Month  Month    \n",
       "2004   April        259141.68\n",
       "       February     256702.63\n",
       "       January      243489.65\n",
       "       March        252585.28\n",
       "       May          226162.72\n",
       "       November     209592.24\n",
       "       September    184487.85\n",
       "2005   April        212688.63\n",
       "       August       264430.92\n",
       "       December     320379.34\n",
       "       February     238829.27\n",
       "       January      240548.10\n",
       "       July         239871.48\n",
       "       June         210199.82\n",
       "       May          263207.37\n",
       "       November     256695.12\n",
       "       October      219849.96\n",
       "       September    247700.17\n",
       "2006   April        275472.25\n",
       "       August       224143.99\n",
       "       December     252736.57\n",
       "       February     284489.57\n",
       "       January      293475.39\n",
       "       July         257936.38\n",
       "       June         251990.45\n",
       "       March        240851.27\n",
       "       May          256920.88\n",
       "       November     199399.20\n",
       "       October      260765.48\n",
       "       September    262533.88\n",
       "Name: Amount, dtype: float64"
      ]
     },
     "execution_count": 50,
     "metadata": {},
     "output_type": "execute_result"
    }
   ],
   "source": [
    "round(Repayment.groupby([Repayment.Month.dt.year, Repayment.Month.dt.strftime('%B')]).Amount.mean(),2)"
   ]
  },
  {
   "cell_type": "markdown",
   "id": "8c6cd976",
   "metadata": {},
   "source": [
    "### e. If the monthly rate of interest is 2.9%, what is the profit for the bank for each month? \n",
    "#### (Profit is defined as interest earned on Monthly Profit. Monthly Profit = Monthly repayment – Monthly spend. Interest is earned only on positive profits and not on negative amounts)"
   ]
  },
  {
   "cell_type": "code",
   "execution_count": 51,
   "id": "0aa3f8e5",
   "metadata": {},
   "outputs": [],
   "source": [
    "df['Year'] = df.Month_Repayment.dt.year\n",
    "df['Month'] = df.Month_Repayment.dt.strftime('%B')"
   ]
  },
  {
   "cell_type": "code",
   "execution_count": 52,
   "id": "13b98ff4",
   "metadata": {},
   "outputs": [
    {
     "data": {
      "text/html": [
       "<div>\n",
       "<style scoped>\n",
       "    .dataframe tbody tr th:only-of-type {\n",
       "        vertical-align: middle;\n",
       "    }\n",
       "\n",
       "    .dataframe tbody tr th {\n",
       "        vertical-align: top;\n",
       "    }\n",
       "\n",
       "    .dataframe thead th {\n",
       "        text-align: right;\n",
       "    }\n",
       "</style>\n",
       "<table border=\"1\" class=\"dataframe\">\n",
       "  <thead>\n",
       "    <tr style=\"text-align: right;\">\n",
       "      <th></th>\n",
       "      <th></th>\n",
       "      <th>Monthly_Spend</th>\n",
       "      <th>Monthly_Repayment</th>\n",
       "      <th>Monthly_Profit</th>\n",
       "      <th>Bank_Int_Earned</th>\n",
       "    </tr>\n",
       "    <tr>\n",
       "      <th>Year</th>\n",
       "      <th>Month</th>\n",
       "      <th></th>\n",
       "      <th></th>\n",
       "      <th></th>\n",
       "      <th></th>\n",
       "    </tr>\n",
       "  </thead>\n",
       "  <tbody>\n",
       "    <tr>\n",
       "      <th rowspan=\"7\" valign=\"top\">2004</th>\n",
       "      <th>April</th>\n",
       "      <td>1.194516e+08</td>\n",
       "      <td>1.614421e+08</td>\n",
       "      <td>4.199046e+07</td>\n",
       "      <td>4.681820e+06</td>\n",
       "    </tr>\n",
       "    <tr>\n",
       "      <th>February</th>\n",
       "      <td>7.613922e+07</td>\n",
       "      <td>7.700939e+07</td>\n",
       "      <td>8.701628e+05</td>\n",
       "      <td>2.233272e+06</td>\n",
       "    </tr>\n",
       "    <tr>\n",
       "      <th>January</th>\n",
       "      <td>1.088357e+09</td>\n",
       "      <td>1.149001e+09</td>\n",
       "      <td>6.064404e+07</td>\n",
       "      <td>3.332103e+07</td>\n",
       "    </tr>\n",
       "    <tr>\n",
       "      <th>March</th>\n",
       "      <td>5.594171e+07</td>\n",
       "      <td>6.846315e+07</td>\n",
       "      <td>1.252144e+07</td>\n",
       "      <td>1.985431e+06</td>\n",
       "    </tr>\n",
       "    <tr>\n",
       "      <th>May</th>\n",
       "      <td>8.800456e+07</td>\n",
       "      <td>9.374240e+07</td>\n",
       "      <td>5.737846e+06</td>\n",
       "      <td>2.718530e+06</td>\n",
       "    </tr>\n",
       "    <tr>\n",
       "      <th>November</th>\n",
       "      <td>5.504612e+07</td>\n",
       "      <td>4.881163e+07</td>\n",
       "      <td>-6.234484e+06</td>\n",
       "      <td>NaN</td>\n",
       "    </tr>\n",
       "    <tr>\n",
       "      <th>September</th>\n",
       "      <td>5.144278e+07</td>\n",
       "      <td>5.561745e+07</td>\n",
       "      <td>4.174674e+06</td>\n",
       "      <td>1.612906e+06</td>\n",
       "    </tr>\n",
       "    <tr>\n",
       "      <th rowspan=\"11\" valign=\"top\">2005</th>\n",
       "      <th>April</th>\n",
       "      <td>9.366405e+07</td>\n",
       "      <td>1.059391e+08</td>\n",
       "      <td>1.227504e+07</td>\n",
       "      <td>3.072234e+06</td>\n",
       "    </tr>\n",
       "    <tr>\n",
       "      <th>August</th>\n",
       "      <td>1.361400e+08</td>\n",
       "      <td>1.524504e+08</td>\n",
       "      <td>1.631034e+07</td>\n",
       "      <td>4.421061e+06</td>\n",
       "    </tr>\n",
       "    <tr>\n",
       "      <th>December</th>\n",
       "      <td>4.348638e+07</td>\n",
       "      <td>5.634163e+07</td>\n",
       "      <td>1.285525e+07</td>\n",
       "      <td>1.633907e+06</td>\n",
       "    </tr>\n",
       "    <tr>\n",
       "      <th>February</th>\n",
       "      <td>5.890557e+08</td>\n",
       "      <td>6.618121e+08</td>\n",
       "      <td>7.275641e+07</td>\n",
       "      <td>1.919255e+07</td>\n",
       "    </tr>\n",
       "    <tr>\n",
       "      <th>January</th>\n",
       "      <td>1.324129e+08</td>\n",
       "      <td>1.410175e+08</td>\n",
       "      <td>8.604553e+06</td>\n",
       "      <td>4.089507e+06</td>\n",
       "    </tr>\n",
       "    <tr>\n",
       "      <th>July</th>\n",
       "      <td>3.995653e+07</td>\n",
       "      <td>4.957738e+07</td>\n",
       "      <td>9.620854e+06</td>\n",
       "      <td>1.437744e+06</td>\n",
       "    </tr>\n",
       "    <tr>\n",
       "      <th>June</th>\n",
       "      <td>1.174019e+08</td>\n",
       "      <td>1.019899e+08</td>\n",
       "      <td>-1.541193e+07</td>\n",
       "      <td>NaN</td>\n",
       "    </tr>\n",
       "    <tr>\n",
       "      <th>May</th>\n",
       "      <td>7.149030e+08</td>\n",
       "      <td>8.550610e+08</td>\n",
       "      <td>1.401580e+08</td>\n",
       "      <td>2.479677e+07</td>\n",
       "    </tr>\n",
       "    <tr>\n",
       "      <th>November</th>\n",
       "      <td>1.532278e+08</td>\n",
       "      <td>1.877526e+08</td>\n",
       "      <td>3.452474e+07</td>\n",
       "      <td>5.444825e+06</td>\n",
       "    </tr>\n",
       "    <tr>\n",
       "      <th>October</th>\n",
       "      <td>3.140993e+07</td>\n",
       "      <td>4.396204e+07</td>\n",
       "      <td>1.255211e+07</td>\n",
       "      <td>1.274899e+06</td>\n",
       "    </tr>\n",
       "    <tr>\n",
       "      <th>September</th>\n",
       "      <td>3.195551e+07</td>\n",
       "      <td>2.356691e+07</td>\n",
       "      <td>-8.388598e+06</td>\n",
       "      <td>NaN</td>\n",
       "    </tr>\n",
       "    <tr>\n",
       "      <th rowspan=\"12\" valign=\"top\">2006</th>\n",
       "      <th>April</th>\n",
       "      <td>3.229722e+08</td>\n",
       "      <td>3.942069e+08</td>\n",
       "      <td>7.123464e+07</td>\n",
       "      <td>1.143200e+07</td>\n",
       "    </tr>\n",
       "    <tr>\n",
       "      <th>August</th>\n",
       "      <td>5.849630e+07</td>\n",
       "      <td>5.670471e+07</td>\n",
       "      <td>-1.791590e+06</td>\n",
       "      <td>NaN</td>\n",
       "    </tr>\n",
       "    <tr>\n",
       "      <th>December</th>\n",
       "      <td>4.585222e+07</td>\n",
       "      <td>5.993854e+07</td>\n",
       "      <td>1.408632e+07</td>\n",
       "      <td>1.738218e+06</td>\n",
       "    </tr>\n",
       "    <tr>\n",
       "      <th>February</th>\n",
       "      <td>1.654843e+08</td>\n",
       "      <td>1.956890e+08</td>\n",
       "      <td>3.020471e+07</td>\n",
       "      <td>5.674982e+06</td>\n",
       "    </tr>\n",
       "    <tr>\n",
       "      <th>January</th>\n",
       "      <td>5.127574e+07</td>\n",
       "      <td>6.073676e+07</td>\n",
       "      <td>9.461014e+06</td>\n",
       "      <td>1.761366e+06</td>\n",
       "    </tr>\n",
       "    <tr>\n",
       "      <th>July</th>\n",
       "      <td>1.444093e+08</td>\n",
       "      <td>1.685954e+08</td>\n",
       "      <td>2.418606e+07</td>\n",
       "      <td>4.889266e+06</td>\n",
       "    </tr>\n",
       "    <tr>\n",
       "      <th>June</th>\n",
       "      <td>5.302118e+07</td>\n",
       "      <td>5.194287e+07</td>\n",
       "      <td>-1.078319e+06</td>\n",
       "      <td>NaN</td>\n",
       "    </tr>\n",
       "    <tr>\n",
       "      <th>March</th>\n",
       "      <td>7.393854e+08</td>\n",
       "      <td>7.391182e+08</td>\n",
       "      <td>-2.671747e+05</td>\n",
       "      <td>NaN</td>\n",
       "    </tr>\n",
       "    <tr>\n",
       "      <th>May</th>\n",
       "      <td>3.297954e+08</td>\n",
       "      <td>3.652488e+08</td>\n",
       "      <td>3.545340e+07</td>\n",
       "      <td>1.059221e+07</td>\n",
       "    </tr>\n",
       "    <tr>\n",
       "      <th>November</th>\n",
       "      <td>1.124836e+08</td>\n",
       "      <td>9.614997e+07</td>\n",
       "      <td>-1.633367e+07</td>\n",
       "      <td>NaN</td>\n",
       "    </tr>\n",
       "    <tr>\n",
       "      <th>October</th>\n",
       "      <td>5.285823e+07</td>\n",
       "      <td>6.174965e+07</td>\n",
       "      <td>8.891422e+06</td>\n",
       "      <td>1.790740e+06</td>\n",
       "    </tr>\n",
       "    <tr>\n",
       "      <th>September</th>\n",
       "      <td>5.395681e+07</td>\n",
       "      <td>6.168156e+07</td>\n",
       "      <td>7.724755e+06</td>\n",
       "      <td>1.788765e+06</td>\n",
       "    </tr>\n",
       "  </tbody>\n",
       "</table>\n",
       "</div>"
      ],
      "text/plain": [
       "                Monthly_Spend  Monthly_Repayment  Monthly_Profit  \\\n",
       "Year Month                                                         \n",
       "2004 April       1.194516e+08       1.614421e+08    4.199046e+07   \n",
       "     February    7.613922e+07       7.700939e+07    8.701628e+05   \n",
       "     January     1.088357e+09       1.149001e+09    6.064404e+07   \n",
       "     March       5.594171e+07       6.846315e+07    1.252144e+07   \n",
       "     May         8.800456e+07       9.374240e+07    5.737846e+06   \n",
       "     November    5.504612e+07       4.881163e+07   -6.234484e+06   \n",
       "     September   5.144278e+07       5.561745e+07    4.174674e+06   \n",
       "2005 April       9.366405e+07       1.059391e+08    1.227504e+07   \n",
       "     August      1.361400e+08       1.524504e+08    1.631034e+07   \n",
       "     December    4.348638e+07       5.634163e+07    1.285525e+07   \n",
       "     February    5.890557e+08       6.618121e+08    7.275641e+07   \n",
       "     January     1.324129e+08       1.410175e+08    8.604553e+06   \n",
       "     July        3.995653e+07       4.957738e+07    9.620854e+06   \n",
       "     June        1.174019e+08       1.019899e+08   -1.541193e+07   \n",
       "     May         7.149030e+08       8.550610e+08    1.401580e+08   \n",
       "     November    1.532278e+08       1.877526e+08    3.452474e+07   \n",
       "     October     3.140993e+07       4.396204e+07    1.255211e+07   \n",
       "     September   3.195551e+07       2.356691e+07   -8.388598e+06   \n",
       "2006 April       3.229722e+08       3.942069e+08    7.123464e+07   \n",
       "     August      5.849630e+07       5.670471e+07   -1.791590e+06   \n",
       "     December    4.585222e+07       5.993854e+07    1.408632e+07   \n",
       "     February    1.654843e+08       1.956890e+08    3.020471e+07   \n",
       "     January     5.127574e+07       6.073676e+07    9.461014e+06   \n",
       "     July        1.444093e+08       1.685954e+08    2.418606e+07   \n",
       "     June        5.302118e+07       5.194287e+07   -1.078319e+06   \n",
       "     March       7.393854e+08       7.391182e+08   -2.671747e+05   \n",
       "     May         3.297954e+08       3.652488e+08    3.545340e+07   \n",
       "     November    1.124836e+08       9.614997e+07   -1.633367e+07   \n",
       "     October     5.285823e+07       6.174965e+07    8.891422e+06   \n",
       "     September   5.395681e+07       6.168156e+07    7.724755e+06   \n",
       "\n",
       "                Bank_Int_Earned  \n",
       "Year Month                       \n",
       "2004 April         4.681820e+06  \n",
       "     February      2.233272e+06  \n",
       "     January       3.332103e+07  \n",
       "     March         1.985431e+06  \n",
       "     May           2.718530e+06  \n",
       "     November               NaN  \n",
       "     September     1.612906e+06  \n",
       "2005 April         3.072234e+06  \n",
       "     August        4.421061e+06  \n",
       "     December      1.633907e+06  \n",
       "     February      1.919255e+07  \n",
       "     January       4.089507e+06  \n",
       "     July          1.437744e+06  \n",
       "     June                   NaN  \n",
       "     May           2.479677e+07  \n",
       "     November      5.444825e+06  \n",
       "     October       1.274899e+06  \n",
       "     September              NaN  \n",
       "2006 April         1.143200e+07  \n",
       "     August                 NaN  \n",
       "     December      1.738218e+06  \n",
       "     February      5.674982e+06  \n",
       "     January       1.761366e+06  \n",
       "     July          4.889266e+06  \n",
       "     June                   NaN  \n",
       "     March                  NaN  \n",
       "     May           1.059221e+07  \n",
       "     November               NaN  \n",
       "     October       1.790740e+06  \n",
       "     September     1.788765e+06  "
      ]
     },
     "execution_count": 52,
     "metadata": {},
     "output_type": "execute_result"
    }
   ],
   "source": [
    "df2 = df.groupby(['Year','Month'])[['Amount_Spend','Amount_Repayment']].sum()\n",
    "df2.rename(columns = {'Amount_Spend' : 'Monthly_Spend', 'Amount_Repayment' : 'Monthly_Repayment'}, inplace = True)\n",
    "df2['Monthly_Profit'] = df2.Monthly_Repayment - df2.Monthly_Spend\n",
    "df2['Bank_Int_Earned'] = 2.9/100 * df2.Monthly_Repayment\n",
    "df2.loc[df2.Monthly_Profit < 0,'Bank_Int_Earned'] = np.NaN\n",
    "df2"
   ]
  },
  {
   "cell_type": "markdown",
   "id": "d19bd08d",
   "metadata": {},
   "source": [
    "### f. What are the top 5 product types?"
   ]
  },
  {
   "cell_type": "code",
   "execution_count": 53,
   "id": "53f155f1",
   "metadata": {},
   "outputs": [
    {
     "data": {
      "text/plain": [
       "Type\n",
       "PETRO           49863174.09\n",
       "CAMERA          41481571.96\n",
       "FOOD            37773338.43\n",
       "TRAIN TICKET    33067077.15\n",
       "AIR TICKET      32955445.42\n",
       "Name: Amount, dtype: float64"
      ]
     },
     "execution_count": 53,
     "metadata": {},
     "output_type": "execute_result"
    }
   ],
   "source": [
    "spend.groupby('Type').Amount.sum().sort_values(ascending = False).head(5)"
   ]
  },
  {
   "cell_type": "markdown",
   "id": "fa8114fb",
   "metadata": {},
   "source": [
    "###  g. Which city is having maximum spend?"
   ]
  },
  {
   "cell_type": "code",
   "execution_count": 54,
   "id": "8b32dc3f",
   "metadata": {},
   "outputs": [
    {
     "data": {
      "text/plain": [
       "City\n",
       "COCHIN    1.175903e+09\n",
       "Name: Amount_Spend, dtype: float64"
      ]
     },
     "execution_count": 54,
     "metadata": {},
     "output_type": "execute_result"
    }
   ],
   "source": [
    "df.groupby('City').Amount_Spend.sum().sort_values(ascending = False).head(1)"
   ]
  },
  {
   "cell_type": "code",
   "execution_count": 55,
   "id": "73677546",
   "metadata": {},
   "outputs": [
    {
     "data": {
      "image/png": "[encoded data removed]",
      "text/plain": [
       "<Figure size 720x576 with 1 Axes>"
      ]
     },
     "metadata": {},
     "output_type": "display_data"
    }
   ],
   "source": [
    "plt.figure(figsize = (10,8))\n",
    "df.groupby('City').Amount_Spend.sum().plot(kind = 'pie', autopct = '%1.1f%%',explode=[0.0,0.0,0.0,0.0,0.05,0.0,0.0,0.0])\n",
    "plt.show()"
   ]
  },
  {
   "cell_type": "markdown",
   "id": "9bca47e6",
   "metadata": {},
   "source": [
    "### h. Which age group is spending more money?"
   ]
  },
  {
   "cell_type": "code",
   "execution_count": 56,
   "id": "15cf694b",
   "metadata": {},
   "outputs": [],
   "source": [
    "df.loc[:,'Age_Group'] = pd.Series(np.where(df.Age <= 24, 'Youth', np.where(df.Age < 60, 'Adult','Senior')))"
   ]
  },
  {
   "cell_type": "code",
   "execution_count": 57,
   "id": "1877e44d",
   "metadata": {},
   "outputs": [
    {
     "data": {
      "text/plain": [
       "Age_Group\n",
       "Adult     4.216583e+09\n",
       "Senior    1.117700e+09\n",
       "Youth     4.137042e+08\n",
       "Name: Amount_Spend, dtype: float64"
      ]
     },
     "execution_count": 57,
     "metadata": {},
     "output_type": "execute_result"
    }
   ],
   "source": [
    "df.groupby('Age_Group').Amount_Spend.sum()"
   ]
  },
  {
   "cell_type": "code",
   "execution_count": 58,
   "id": "352b3453",
   "metadata": {},
   "outputs": [
    {
     "data": {
      "image/png": "[encoded data removed]",
      "text/plain": [
       "<Figure size 432x288 with 1 Axes>"
      ]
     },
     "metadata": {
      "needs_background": "light"
     },
     "output_type": "display_data"
    }
   ],
   "source": [
    "df.groupby('Age_Group').Amount_Spend.sum().plot(kind = 'bar')\n",
    "plt.show()"
   ]
  },
  {
   "cell_type": "markdown",
   "id": "afa7185f",
   "metadata": {},
   "source": [
    "### i. Who are the top 10 customers in terms of repayment?"
   ]
  },
  {
   "cell_type": "code",
   "execution_count": 59,
   "id": "1e93c6e1",
   "metadata": {},
   "outputs": [
    {
     "data": {
      "text/plain": [
       "Customer\n",
       "A61    4.004874e+08\n",
       "A60    3.752990e+08\n",
       "A13    2.967320e+08\n",
       "A43    2.631860e+08\n",
       "A45    2.618984e+08\n",
       "A12    2.583776e+08\n",
       "A14    2.462413e+08\n",
       "A44    2.400866e+08\n",
       "A39    2.362970e+08\n",
       "A42    2.360793e+08\n",
       "Name: Amount_Repayment, dtype: float64"
      ]
     },
     "execution_count": 59,
     "metadata": {},
     "output_type": "execute_result"
    }
   ],
   "source": [
    "df.groupby('Customer').Amount_Repayment.sum().sort_values(ascending = False).head(10)"
   ]
  },
  {
   "cell_type": "markdown",
   "id": "fc11ef3a",
   "metadata": {},
   "source": [
    "### 3. Calculate the city wise spend on each product on yearly basis. Also include a graphical representation for the same."
   ]
  },
  {
   "cell_type": "code",
   "execution_count": 60,
   "id": "3e0cd673",
   "metadata": {},
   "outputs": [
    {
     "data": {
      "text/html": [
       "<div>\n",
       "<style scoped>\n",
       "    .dataframe tbody tr th:only-of-type {\n",
       "        vertical-align: middle;\n",
       "    }\n",
       "\n",
       "    .dataframe tbody tr th {\n",
       "        vertical-align: top;\n",
       "    }\n",
       "\n",
       "    .dataframe thead th {\n",
       "        text-align: right;\n",
       "    }\n",
       "</style>\n",
       "<table border=\"1\" class=\"dataframe\">\n",
       "  <thead>\n",
       "    <tr style=\"text-align: right;\">\n",
       "      <th></th>\n",
       "      <th>Product</th>\n",
       "      <th>Gold</th>\n",
       "      <th>Platimum</th>\n",
       "      <th>Silver</th>\n",
       "    </tr>\n",
       "    <tr>\n",
       "      <th>Month_Spend</th>\n",
       "      <th>City</th>\n",
       "      <th></th>\n",
       "      <th></th>\n",
       "      <th></th>\n",
       "    </tr>\n",
       "  </thead>\n",
       "  <tbody>\n",
       "    <tr>\n",
       "      <th rowspan=\"5\" valign=\"top\">2004-01-03</th>\n",
       "      <th>BANGALORE</th>\n",
       "      <td>39834958.77</td>\n",
       "      <td>6022459.87</td>\n",
       "      <td>4650055.50</td>\n",
       "    </tr>\n",
       "    <tr>\n",
       "      <th>BOMBAY</th>\n",
       "      <td>33056369.42</td>\n",
       "      <td>3240090.00</td>\n",
       "      <td>4950000.00</td>\n",
       "    </tr>\n",
       "    <tr>\n",
       "      <th>CALCUTTA</th>\n",
       "      <td>58321033.84</td>\n",
       "      <td>1580305.74</td>\n",
       "      <td>1500019.00</td>\n",
       "    </tr>\n",
       "    <tr>\n",
       "      <th>CHENNAI</th>\n",
       "      <td>12687055.38</td>\n",
       "      <td>28884337.57</td>\n",
       "      <td>2291835.60</td>\n",
       "    </tr>\n",
       "    <tr>\n",
       "      <th>COCHIN</th>\n",
       "      <td>42260908.55</td>\n",
       "      <td>24452747.42</td>\n",
       "      <td>1978991.46</td>\n",
       "    </tr>\n",
       "    <tr>\n",
       "      <th>...</th>\n",
       "      <th>...</th>\n",
       "      <td>...</td>\n",
       "      <td>...</td>\n",
       "      <td>...</td>\n",
       "    </tr>\n",
       "    <tr>\n",
       "      <th rowspan=\"5\" valign=\"top\">2006-12-03</th>\n",
       "      <th>CALCUTTA</th>\n",
       "      <td>NaN</td>\n",
       "      <td>NaN</td>\n",
       "      <td>950019.00</td>\n",
       "    </tr>\n",
       "    <tr>\n",
       "      <th>CHENNAI</th>\n",
       "      <td>NaN</td>\n",
       "      <td>4248937.13</td>\n",
       "      <td>NaN</td>\n",
       "    </tr>\n",
       "    <tr>\n",
       "      <th>COCHIN</th>\n",
       "      <td>5342338.80</td>\n",
       "      <td>920040.00</td>\n",
       "      <td>NaN</td>\n",
       "    </tr>\n",
       "    <tr>\n",
       "      <th>DELHI</th>\n",
       "      <td>10508353.69</td>\n",
       "      <td>NaN</td>\n",
       "      <td>NaN</td>\n",
       "    </tr>\n",
       "    <tr>\n",
       "      <th>TRIVANDRUM</th>\n",
       "      <td>9126235.17</td>\n",
       "      <td>NaN</td>\n",
       "      <td>NaN</td>\n",
       "    </tr>\n",
       "  </tbody>\n",
       "</table>\n",
       "<p>489 rows × 3 columns</p>\n",
       "</div>"
      ],
      "text/plain": [
       "Product                        Gold     Platimum      Silver\n",
       "Month_Spend City                                            \n",
       "2004-01-03  BANGALORE   39834958.77   6022459.87  4650055.50\n",
       "            BOMBAY      33056369.42   3240090.00  4950000.00\n",
       "            CALCUTTA    58321033.84   1580305.74  1500019.00\n",
       "            CHENNAI     12687055.38  28884337.57  2291835.60\n",
       "            COCHIN      42260908.55  24452747.42  1978991.46\n",
       "...                             ...          ...         ...\n",
       "2006-12-03  CALCUTTA            NaN          NaN   950019.00\n",
       "            CHENNAI             NaN   4248937.13         NaN\n",
       "            COCHIN       5342338.80    920040.00         NaN\n",
       "            DELHI       10508353.69          NaN         NaN\n",
       "            TRIVANDRUM   9126235.17          NaN         NaN\n",
       "\n",
       "[489 rows x 3 columns]"
      ]
     },
     "execution_count": 60,
     "metadata": {},
     "output_type": "execute_result"
    }
   ],
   "source": [
    "df.pivot_table(index = ['Month_Spend','City'], columns = 'Product', values = 'Amount_Spend', aggfunc = 'sum')"
   ]
  },
  {
   "cell_type": "code",
   "execution_count": 61,
   "id": "933fa9ba",
   "metadata": {},
   "outputs": [
    {
     "data": {
      "image/png": "[encoded data removed]",
      "text/plain": [
       "<Figure size 1296x360 with 1 Axes>"
      ]
     },
     "metadata": {
      "needs_background": "light"
     },
     "output_type": "display_data"
    }
   ],
   "source": [
    "df.pivot_table(index = [df.Month_Spend.dt.year,'City'], columns = 'Product',\n",
    "               values = 'Amount_Spend', aggfunc = 'sum').plot(kind = 'bar', figsize = (18,5))\n",
    "plt.xlabel('Year,City')\n",
    "plt.ylabel('Amount_Spend')\n",
    "plt.show()"
   ]
  },
  {
   "cell_type": "markdown",
   "id": "0afbc268",
   "metadata": {},
   "source": [
    "## 4. Create graphs for\n",
    "### a. Monthly comparison of total spends, city wise"
   ]
  },
  {
   "cell_type": "code",
   "execution_count": 62,
   "id": "ea3bd190",
   "metadata": {},
   "outputs": [
    {
     "data": {
      "image/png": "[encoded data removed]",
      "text/plain": [
       "<Figure size 1080x432 with 1 Axes>"
      ]
     },
     "metadata": {
      "needs_background": "light"
     },
     "output_type": "display_data"
    }
   ],
   "source": [
    "df.pivot_table(index = df.Month_Spend.dt.strftime('%B'), columns = 'City',\n",
    "               values = 'Amount_Spend', aggfunc = 'sum').plot(kind = 'bar', figsize = (15,6))\n",
    "plt.xlabel('Spend_Months')\n",
    "plt.ylabel('Amount_Spend')\n",
    "plt.show()"
   ]
  },
  {
   "cell_type": "markdown",
   "id": "35b82a1d",
   "metadata": {},
   "source": [
    "### b. Comparison of yearly spend on air tickets"
   ]
  },
  {
   "cell_type": "code",
   "execution_count": 63,
   "id": "20f55409",
   "metadata": {},
   "outputs": [
    {
     "data": {
      "image/png": "[encoded data removed]",
      "text/plain": [
       "<Figure size 432x288 with 1 Axes>"
      ]
     },
     "metadata": {
      "needs_background": "light"
     },
     "output_type": "display_data"
    }
   ],
   "source": [
    "df3 = df.loc[df.Type == 'AIR TICKET',['Month_Spend','Type','Amount_Spend']]\n",
    "df3.groupby(df3.Month_Spend.dt.year).Amount_Spend.sum().plot(kind = 'bar')\n",
    "plt.title('Comparison of yearly spend on air tickets')\n",
    "plt.ylabel('Amount Spend')\n",
    "plt.xlabel('Year')\n",
    "plt.show()"
   ]
  },
  {
   "cell_type": "markdown",
   "id": "3311226c",
   "metadata": {},
   "source": [
    "### c. Comparison of monthly spend for each product (look for any seasonality that exists in terms of spend)"
   ]
  },
  {
   "cell_type": "code",
   "execution_count": 64,
   "id": "72db8072",
   "metadata": {},
   "outputs": [
    {
     "data": {
      "image/png": "[encoded data removed]",
      "text/plain": [
       "<Figure size 1080x360 with 1 Axes>"
      ]
     },
     "metadata": {
      "needs_background": "light"
     },
     "output_type": "display_data"
    }
   ],
   "source": [
    "df.pivot_table(index = df.Month_Spend.dt.strftime('%B'), columns = 'Product',\n",
    "               values = 'Amount_Spend', aggfunc = 'sum').plot(kind = 'bar', figsize = (15,5))\n",
    "plt.show()\n",
    "\n",
    "# highest amount was spent in the month of January by the customers on the products"
   ]
  },
  {
   "cell_type": "markdown",
   "id": "cbc45e4b",
   "metadata": {},
   "source": [
    "## 5. Write user defined PYTHON function to perform the following analysis:\n",
    "### You need to find top 10 customers for each city in terms of their repayment amount by different products and by different time periods i.e. year or month. The user should be able to specify the product (Gold/Silver/Platinum) and time period (yearly or monthly) and the function should automatically take these inputs while identifying the top 10 customers."
   ]
  },
  {
   "cell_type": "code",
   "execution_count": 78,
   "id": "9b07e00e",
   "metadata": {},
   "outputs": [],
   "source": [
    "customer_repay = pd.merge(left = Customer_Acqusition, right = Repayment, how = 'inner', on = 'Customer')\n",
    "customer_repay.loc[:,'Yearly'] = cust_repay.Month.dt.year\n",
    "customer_repay.loc[:,'Monthly'] = cust_repay.Month.dt.strftime('%B')"
   ]
  },
  {
   "cell_type": "code",
   "execution_count": 79,
   "id": "4780e76c",
   "metadata": {},
   "outputs": [
    {
     "data": {
      "text/html": [
       "<div>\n",
       "<style scoped>\n",
       "    .dataframe tbody tr th:only-of-type {\n",
       "        vertical-align: middle;\n",
       "    }\n",
       "\n",
       "    .dataframe tbody tr th {\n",
       "        vertical-align: top;\n",
       "    }\n",
       "\n",
       "    .dataframe thead th {\n",
       "        text-align: right;\n",
       "    }\n",
       "</style>\n",
       "<table border=\"1\" class=\"dataframe\">\n",
       "  <thead>\n",
       "    <tr style=\"text-align: right;\">\n",
       "      <th></th>\n",
       "      <th>Customer</th>\n",
       "      <th>Age</th>\n",
       "      <th>City</th>\n",
       "      <th>Product</th>\n",
       "      <th>Limit</th>\n",
       "      <th>Company</th>\n",
       "      <th>Segment</th>\n",
       "      <th>Month</th>\n",
       "      <th>Amount</th>\n",
       "      <th>Yearly</th>\n",
       "      <th>Monthly</th>\n",
       "    </tr>\n",
       "  </thead>\n",
       "  <tbody>\n",
       "    <tr>\n",
       "      <th>0</th>\n",
       "      <td>A1</td>\n",
       "      <td>76.0</td>\n",
       "      <td>BANGALORE</td>\n",
       "      <td>Gold</td>\n",
       "      <td>500000.0</td>\n",
       "      <td>C1</td>\n",
       "      <td>Self Employed</td>\n",
       "      <td>2004-01-12</td>\n",
       "      <td>495414.75</td>\n",
       "      <td>2004</td>\n",
       "      <td>January</td>\n",
       "    </tr>\n",
       "    <tr>\n",
       "      <th>1</th>\n",
       "      <td>A1</td>\n",
       "      <td>76.0</td>\n",
       "      <td>BANGALORE</td>\n",
       "      <td>Gold</td>\n",
       "      <td>500000.0</td>\n",
       "      <td>C1</td>\n",
       "      <td>Self Employed</td>\n",
       "      <td>2004-01-03</td>\n",
       "      <td>245899.02</td>\n",
       "      <td>2004</td>\n",
       "      <td>January</td>\n",
       "    </tr>\n",
       "  </tbody>\n",
       "</table>\n",
       "</div>"
      ],
      "text/plain": [
       "  Customer   Age       City Product     Limit Company        Segment  \\\n",
       "0       A1  76.0  BANGALORE    Gold  500000.0      C1  Self Employed   \n",
       "1       A1  76.0  BANGALORE    Gold  500000.0      C1  Self Employed   \n",
       "\n",
       "       Month     Amount  Yearly  Monthly  \n",
       "0 2004-01-12  495414.75    2004  January  \n",
       "1 2004-01-03  245899.02    2004  January  "
      ]
     },
     "execution_count": 79,
     "metadata": {},
     "output_type": "execute_result"
    }
   ],
   "source": [
    "customer_repay.head(2)"
   ]
  },
  {
   "cell_type": "code",
   "execution_count": 102,
   "id": "4d7cbbb4",
   "metadata": {},
   "outputs": [],
   "source": [
    "def func(product, period):\n",
    "    \n",
    "    if product.lower() == 'gold' and period.lower() == 'monthly':\n",
    "        pivot = customer_repay.pivot_table(index=['Product','City','Customer'],columns='Monthly',values='Amount',aggfunc='sum')\n",
    "        result = pivot.loc[('Gold',['BANGALORE', 'CALCUTTA', 'COCHIN', 'BOMBAY', 'DELHI', 'PATNA','CHENNAI', 'TRIVANDRUM']),:]\n",
    "    \n",
    "    elif product.lower() == 'gold' and period.lower() == 'yearly':\n",
    "        pivot = customer_repay.pivot_table(index=['Product','City','Customer'],columns='Yearly',values='Amount',aggfunc='sum')\n",
    "        result = pivot.loc[('Gold',['BANGALORE', 'CALCUTTA', 'COCHIN', 'BOMBAY', 'DELHI', 'PATNA','CHENNAI', 'TRIVANDRUM']),:]\n",
    "    \n",
    "    elif product.lower() == 'silver' and period.lower() == 'monthly':\n",
    "        pivot = customer_repay.pivot_table(index=['Product','City','Customer'],columns='Monthly',values='Amount',aggfunc='sum')\n",
    "        result = pivot.loc[('Silver',['BANGALORE', 'CALCUTTA', 'COCHIN', 'BOMBAY', 'DELHI', 'PATNA','CHENNAI', 'TRIVANDRUM']),:]\n",
    "    \n",
    "    elif product.lower() == 'silver' and period.lower() == 'yearly':\n",
    "        pivot = customer_repay.pivot_table(index=['Product','City','Customer'],columns='Yearly',values='Amount',aggfunc='sum')\n",
    "        result = pivot.loc[('Silver',['BANGALORE', 'CALCUTTA', 'COCHIN', 'BOMBAY', 'DELHI', 'PATNA','CHENNAI', 'TRIVANDRUM']),:]\n",
    "    \n",
    "    elif product.lower() == 'platimum' and period.lower() == 'monthly':\n",
    "        pivot = customer_repay.pivot_table(index=['Product','City','Customer'],columns='Monthly',values='Amount',aggfunc='sum')\n",
    "        result = pivot.loc[('platimum',['BANGALORE','CALCUTTA','COCHIN','BOMBAY', 'DELHI', 'PATNA','CHENNAI', 'TRIVANDRUM']),:]\n",
    "    \n",
    "    elif product.lower() == 'platimum' and period.lower() == 'yearly':\n",
    "        pivot = customer_repay.pivot_table(index=['Product','City','Customer'],columns='Yearly',values='Amount',aggfunc='sum')\n",
    "        result = pivot.loc[('platimum',['BANGALORE','CALCUTTA','COCHIN','BOMBAY', 'DELHI', 'PATNA','CHENNAI', 'TRIVANDRUM']),:]\n",
    "    \n",
    "    return result"
   ]
  },
  {
   "cell_type": "code",
   "execution_count": 103,
   "id": "a43c6a09",
   "metadata": {},
   "outputs": [
    {
     "data": {
      "text/html": [
       "<div>\n",
       "<style scoped>\n",
       "    .dataframe tbody tr th:only-of-type {\n",
       "        vertical-align: middle;\n",
       "    }\n",
       "\n",
       "    .dataframe tbody tr th {\n",
       "        vertical-align: top;\n",
       "    }\n",
       "\n",
       "    .dataframe thead th {\n",
       "        text-align: right;\n",
       "    }\n",
       "</style>\n",
       "<table border=\"1\" class=\"dataframe\">\n",
       "  <thead>\n",
       "    <tr style=\"text-align: right;\">\n",
       "      <th></th>\n",
       "      <th></th>\n",
       "      <th>Yearly</th>\n",
       "      <th>2004</th>\n",
       "      <th>2005</th>\n",
       "      <th>2006</th>\n",
       "    </tr>\n",
       "    <tr>\n",
       "      <th>Product</th>\n",
       "      <th>City</th>\n",
       "      <th>Customer</th>\n",
       "      <th></th>\n",
       "      <th></th>\n",
       "      <th></th>\n",
       "    </tr>\n",
       "  </thead>\n",
       "  <tbody>\n",
       "    <tr>\n",
       "      <th rowspan=\"38\" valign=\"top\">Gold</th>\n",
       "      <th rowspan=\"9\" valign=\"top\">BANGALORE</th>\n",
       "      <th>A1</th>\n",
       "      <td>2359797.84</td>\n",
       "      <td>1529158.77</td>\n",
       "      <td>864735.06</td>\n",
       "    </tr>\n",
       "    <tr>\n",
       "      <th>A13</th>\n",
       "      <td>2337012.77</td>\n",
       "      <td>3757673.00</td>\n",
       "      <td>3477314.89</td>\n",
       "    </tr>\n",
       "    <tr>\n",
       "      <th>A14</th>\n",
       "      <td>2770261.30</td>\n",
       "      <td>2491981.61</td>\n",
       "      <td>2681025.72</td>\n",
       "    </tr>\n",
       "    <tr>\n",
       "      <th>A30</th>\n",
       "      <td>978777.17</td>\n",
       "      <td>2667746.38</td>\n",
       "      <td>2486958.41</td>\n",
       "    </tr>\n",
       "    <tr>\n",
       "      <th>A43</th>\n",
       "      <td>1906497.47</td>\n",
       "      <td>4006956.60</td>\n",
       "      <td>2576417.39</td>\n",
       "    </tr>\n",
       "    <tr>\n",
       "      <th>A63</th>\n",
       "      <td>788855.60</td>\n",
       "      <td>NaN</td>\n",
       "      <td>211117.12</td>\n",
       "    </tr>\n",
       "    <tr>\n",
       "      <th>A81</th>\n",
       "      <td>NaN</td>\n",
       "      <td>NaN</td>\n",
       "      <td>207780.32</td>\n",
       "    </tr>\n",
       "    <tr>\n",
       "      <th>A88</th>\n",
       "      <td>NaN</td>\n",
       "      <td>NaN</td>\n",
       "      <td>146821.30</td>\n",
       "    </tr>\n",
       "    <tr>\n",
       "      <th>A92</th>\n",
       "      <td>NaN</td>\n",
       "      <td>NaN</td>\n",
       "      <td>459105.69</td>\n",
       "    </tr>\n",
       "    <tr>\n",
       "      <th rowspan=\"6\" valign=\"top\">CALCUTTA</th>\n",
       "      <th>A10</th>\n",
       "      <td>892190.53</td>\n",
       "      <td>1246843.93</td>\n",
       "      <td>1556613.06</td>\n",
       "    </tr>\n",
       "    <tr>\n",
       "      <th>A15</th>\n",
       "      <td>1051502.61</td>\n",
       "      <td>1720768.79</td>\n",
       "      <td>2783141.43</td>\n",
       "    </tr>\n",
       "    <tr>\n",
       "      <th>A29</th>\n",
       "      <td>1376793.94</td>\n",
       "      <td>1706779.22</td>\n",
       "      <td>3434298.00</td>\n",
       "    </tr>\n",
       "    <tr>\n",
       "      <th>A31</th>\n",
       "      <td>407599.13</td>\n",
       "      <td>1448641.71</td>\n",
       "      <td>1527798.41</td>\n",
       "    </tr>\n",
       "    <tr>\n",
       "      <th>A60</th>\n",
       "      <td>2890721.81</td>\n",
       "      <td>3742856.10</td>\n",
       "      <td>3242712.83</td>\n",
       "    </tr>\n",
       "    <tr>\n",
       "      <th>A89</th>\n",
       "      <td>NaN</td>\n",
       "      <td>NaN</td>\n",
       "      <td>497237.97</td>\n",
       "    </tr>\n",
       "    <tr>\n",
       "      <th rowspan=\"8\" valign=\"top\">COCHIN</th>\n",
       "      <th>A11</th>\n",
       "      <td>958556.39</td>\n",
       "      <td>2045470.88</td>\n",
       "      <td>2306906.76</td>\n",
       "    </tr>\n",
       "    <tr>\n",
       "      <th>A16</th>\n",
       "      <td>1122211.16</td>\n",
       "      <td>1226247.16</td>\n",
       "      <td>1911369.63</td>\n",
       "    </tr>\n",
       "    <tr>\n",
       "      <th>A32</th>\n",
       "      <td>344312.67</td>\n",
       "      <td>696673.46</td>\n",
       "      <td>1517308.65</td>\n",
       "    </tr>\n",
       "    <tr>\n",
       "      <th>A45</th>\n",
       "      <td>2557947.39</td>\n",
       "      <td>4042447.57</td>\n",
       "      <td>1847939.91</td>\n",
       "    </tr>\n",
       "    <tr>\n",
       "      <th>A61</th>\n",
       "      <td>2518154.95</td>\n",
       "      <td>4276860.55</td>\n",
       "      <td>3744127.41</td>\n",
       "    </tr>\n",
       "    <tr>\n",
       "      <th>A65</th>\n",
       "      <td>468922.60</td>\n",
       "      <td>230667.34</td>\n",
       "      <td>NaN</td>\n",
       "    </tr>\n",
       "    <tr>\n",
       "      <th>A90</th>\n",
       "      <td>NaN</td>\n",
       "      <td>NaN</td>\n",
       "      <td>109931.32</td>\n",
       "    </tr>\n",
       "    <tr>\n",
       "      <th>A94</th>\n",
       "      <td>153465.89</td>\n",
       "      <td>NaN</td>\n",
       "      <td>NaN</td>\n",
       "    </tr>\n",
       "    <tr>\n",
       "      <th rowspan=\"5\" valign=\"top\">BOMBAY</th>\n",
       "      <th>A12</th>\n",
       "      <td>2339080.90</td>\n",
       "      <td>2877588.30</td>\n",
       "      <td>3118090.96</td>\n",
       "    </tr>\n",
       "    <tr>\n",
       "      <th>A17</th>\n",
       "      <td>1425448.02</td>\n",
       "      <td>731143.83</td>\n",
       "      <td>3127783.14</td>\n",
       "    </tr>\n",
       "    <tr>\n",
       "      <th>A42</th>\n",
       "      <td>3045914.71</td>\n",
       "      <td>3125758.43</td>\n",
       "      <td>1443787.72</td>\n",
       "    </tr>\n",
       "    <tr>\n",
       "      <th>A62</th>\n",
       "      <td>1744114.25</td>\n",
       "      <td>1541617.21</td>\n",
       "      <td>1684085.69</td>\n",
       "    </tr>\n",
       "    <tr>\n",
       "      <th>A91</th>\n",
       "      <td>NaN</td>\n",
       "      <td>NaN</td>\n",
       "      <td>247781.00</td>\n",
       "    </tr>\n",
       "    <tr>\n",
       "      <th rowspan=\"4\" valign=\"top\">DELHI</th>\n",
       "      <th>A44</th>\n",
       "      <td>2149383.50</td>\n",
       "      <td>4165317.77</td>\n",
       "      <td>1430028.85</td>\n",
       "    </tr>\n",
       "    <tr>\n",
       "      <th>A64</th>\n",
       "      <td>NaN</td>\n",
       "      <td>NaN</td>\n",
       "      <td>323229.09</td>\n",
       "    </tr>\n",
       "    <tr>\n",
       "      <th>A82</th>\n",
       "      <td>NaN</td>\n",
       "      <td>NaN</td>\n",
       "      <td>342200.74</td>\n",
       "    </tr>\n",
       "    <tr>\n",
       "      <th>A93</th>\n",
       "      <td>342326.14</td>\n",
       "      <td>NaN</td>\n",
       "      <td>NaN</td>\n",
       "    </tr>\n",
       "    <tr>\n",
       "      <th rowspan=\"3\" valign=\"top\">PATNA</th>\n",
       "      <th>A26</th>\n",
       "      <td>1490427.84</td>\n",
       "      <td>2433837.95</td>\n",
       "      <td>3330421.30</td>\n",
       "    </tr>\n",
       "    <tr>\n",
       "      <th>A66</th>\n",
       "      <td>477039.78</td>\n",
       "      <td>NaN</td>\n",
       "      <td>113094.58</td>\n",
       "    </tr>\n",
       "    <tr>\n",
       "      <th>A95</th>\n",
       "      <td>369405.96</td>\n",
       "      <td>NaN</td>\n",
       "      <td>NaN</td>\n",
       "    </tr>\n",
       "    <tr>\n",
       "      <th rowspan=\"2\" valign=\"top\">CHENNAI</th>\n",
       "      <th>A27</th>\n",
       "      <td>1842823.04</td>\n",
       "      <td>2782591.71</td>\n",
       "      <td>2387485.81</td>\n",
       "    </tr>\n",
       "    <tr>\n",
       "      <th>A67</th>\n",
       "      <td>67845.60</td>\n",
       "      <td>55638.77</td>\n",
       "      <td>NaN</td>\n",
       "    </tr>\n",
       "    <tr>\n",
       "      <th>TRIVANDRUM</th>\n",
       "      <th>A28</th>\n",
       "      <td>965108.49</td>\n",
       "      <td>2827009.82</td>\n",
       "      <td>3376614.65</td>\n",
       "    </tr>\n",
       "  </tbody>\n",
       "</table>\n",
       "</div>"
      ],
      "text/plain": [
       "Yearly                             2004        2005        2006\n",
       "Product City       Customer                                    \n",
       "Gold    BANGALORE  A1        2359797.84  1529158.77   864735.06\n",
       "                   A13       2337012.77  3757673.00  3477314.89\n",
       "                   A14       2770261.30  2491981.61  2681025.72\n",
       "                   A30        978777.17  2667746.38  2486958.41\n",
       "                   A43       1906497.47  4006956.60  2576417.39\n",
       "                   A63        788855.60         NaN   211117.12\n",
       "                   A81              NaN         NaN   207780.32\n",
       "                   A88              NaN         NaN   146821.30\n",
       "                   A92              NaN         NaN   459105.69\n",
       "        CALCUTTA   A10        892190.53  1246843.93  1556613.06\n",
       "                   A15       1051502.61  1720768.79  2783141.43\n",
       "                   A29       1376793.94  1706779.22  3434298.00\n",
       "                   A31        407599.13  1448641.71  1527798.41\n",
       "                   A60       2890721.81  3742856.10  3242712.83\n",
       "                   A89              NaN         NaN   497237.97\n",
       "        COCHIN     A11        958556.39  2045470.88  2306906.76\n",
       "                   A16       1122211.16  1226247.16  1911369.63\n",
       "                   A32        344312.67   696673.46  1517308.65\n",
       "                   A45       2557947.39  4042447.57  1847939.91\n",
       "                   A61       2518154.95  4276860.55  3744127.41\n",
       "                   A65        468922.60   230667.34         NaN\n",
       "                   A90              NaN         NaN   109931.32\n",
       "                   A94        153465.89         NaN         NaN\n",
       "        BOMBAY     A12       2339080.90  2877588.30  3118090.96\n",
       "                   A17       1425448.02   731143.83  3127783.14\n",
       "                   A42       3045914.71  3125758.43  1443787.72\n",
       "                   A62       1744114.25  1541617.21  1684085.69\n",
       "                   A91              NaN         NaN   247781.00\n",
       "        DELHI      A44       2149383.50  4165317.77  1430028.85\n",
       "                   A64              NaN         NaN   323229.09\n",
       "                   A82              NaN         NaN   342200.74\n",
       "                   A93        342326.14         NaN         NaN\n",
       "        PATNA      A26       1490427.84  2433837.95  3330421.30\n",
       "                   A66        477039.78         NaN   113094.58\n",
       "                   A95        369405.96         NaN         NaN\n",
       "        CHENNAI    A27       1842823.04  2782591.71  2387485.81\n",
       "                   A67         67845.60    55638.77         NaN\n",
       "        TRIVANDRUM A28        965108.49  2827009.82  3376614.65"
      ]
     },
     "execution_count": 103,
     "metadata": {},
     "output_type": "execute_result"
    }
   ],
   "source": [
    "func('gold','yearly')"
   ]
  }
 ],
 "metadata": {
  "kernelspec": {
   "display_name": "Python 3",
   "language": "python",
   "name": "python3"
  },
  "language_info": {
   "codemirror_mode": {
    "name": "ipython",
    "version": 3
   },
   "file_extension": ".py",
   "mimetype": "text/x-python",
   "name": "python",
   "nbconvert_exporter": "python",
   "pygments_lexer": "ipython3",
   "version": "3.8.8"
  }
 },
 "nbformat": 4,
 "nbformat_minor": 5
}
